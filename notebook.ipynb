{
 "cells": [
  {
   "cell_type": "code",
   "execution_count": 1,
   "metadata": {},
   "outputs": [],
   "source": [
    "# Set working directory. Should be the repository home\n",
    "import os\n",
    "os.chdir(\"/home/calesella/projects/brainhack\")"
   ]
  },
  {
   "cell_type": "code",
   "execution_count": 1,
   "metadata": {},
   "outputs": [],
   "source": [
    "# Imports\n",
    "import numpy as np\n",
    "from utility import load_fmri, load_phenotype"
   ]
  },
  {
   "cell_type": "code",
   "execution_count": 3,
   "metadata": {},
   "outputs": [
    {
     "name": "stdout",
     "output_type": "stream",
     "text": [
      "No files found matching *task-hammer*.h5 in NDAR_INVBL062HTE\n",
      "No files found matching *task-hammer*.h5 in NDAR_INVBY805EE5\n",
      "No files found matching *task-hammer*.h5 in NDAR_INVGB371PPV\n",
      "No files found matching *task-hammer*.h5 in NDAR_INVGT021UPR\n",
      "No files found matching *task-hammer*.h5 in NDAR_INVHA329EL1\n",
      "No files found matching *task-hammer*.h5 in NDAR_INVLL260KC0\n",
      "No files found matching *task-hammer*.h5 in NDAR_INVPF283TAQ\n",
      "No files found matching *task-hammer*.h5 in NDAR_INVRR054KAM\n",
      "No files found matching *task-hammer*.h5 in NDAR_INVUA181LXU\n",
      "No files found matching *task-hammer*.h5 in NDAR_INVVU614ZKP\n",
      "No files found matching *task-hammer*.h5 in NDAR_INVXR625UBQ\n",
      "No files found matching *task-hammer*.h5 in NDAR_INVXV404VJL\n",
      "No files found matching *task-hammer*.h5 in NDAR_INVYT858CBN\n",
      "No files found matching *task-hammer*.h5 in NDAR_INVZH090MNG\n",
      "No files found matching *task-hammer*.h5 in NDAR_INVZU586UPF\n"
     ]
    }
   ],
   "source": [
    "# Load the data\n",
    "data_root = \"/home/calesella/projects/brainhack/data/fMRI_timeseries_clean_denoised_GSR_parcellated\"\n",
    "file_filter = \"*task-hammer*.h5\"\n",
    "data, subjects = load_fmri(data_root, file_filter)"
   ]
  },
  {
   "cell_type": "code",
   "execution_count": 2,
   "metadata": {},
   "outputs": [],
   "source": [
    "data_root = \"/home/calesella/projects/brainhack/data/phenotype\"\n",
    "phenotype = load_phenotype(data_root)"
   ]
  },
  {
   "cell_type": "code",
   "execution_count": 6,
   "metadata": {},
   "outputs": [
    {
     "name": "stdout",
     "output_type": "stream",
     "text": [
      "Duplicated columns found: ['src_subject_id_src_subject_id', 'interview_date_src_subject_id', 'interview_age_src_subject_id', 'sex_src_subject_id', 'src_subject_id_src_subject_id', 'interview_date_src_subject_id', 'interview_age_src_subject_id', 'sex_src_subject_id', 'src_subject_id_src_subject_id', 'interview_date_src_subject_id', 'interview_age_src_subject_id', 'sex_src_subject_id', 'src_subject_id_src_subject_id', 'interview_date_src_subject_id', 'interview_age_src_subject_id', 'sex_src_subject_id', 'src_subject_id_src_subject_id', 'interview_date_src_subject_id', 'interview_age_src_subject_id', 'sex_src_subject_id', 'src_subject_id_src_subject_id', 'interview_date_src_subject_id', 'interview_age_src_subject_id', 'sex_src_subject_id', 'src_subject_id_src_subject_id', 'interview_date_src_subject_id', 'interview_age_src_subject_id', 'sex_src_subject_id', 'src_subject_id_src_subject_id', 'interview_date_src_subject_id', 'interview_age_src_subject_id', 'sex_src_subject_id', 'src_subject_id_src_subject_id', 'interview_date_src_subject_id', 'interview_age_src_subject_id', 'sex_src_subject_id', 'src_subject_id_src_subject_id', 'interview_age_src_subject_id', 'sex_src_subject_id', 'src_subject_id_src_subject_id', 'interview_date_src_subject_id', 'interview_age_src_subject_id', 'sex_src_subject_id', 'src_subject_id_src_subject_id', 'interview_date_src_subject_id', 'interview_age_src_subject_id', 'sex_src_subject_id', 'src_subject_id_src_subject_id', 'interview_date_src_subject_id', 'interview_age_src_subject_id', 'sex_src_subject_id', 'src_subject_id_src_subject_id', 'interview_date_src_subject_id', 'interview_age_src_subject_id', 'sex_src_subject_id', 'src_subject_id_src_subject_id', 'interview_date_src_subject_id', 'interview_age_src_subject_id', 'sex_src_subject_id', 'completed_src_subject_id', 'src_subject_id_src_subject_id', 'interview_date_src_subject_id', 'interview_age_src_subject_id', 'sex_src_subject_id', 'src_subject_id_src_subject_id', 'interview_date_src_subject_id', 'interview_age_src_subject_id', 'sex_src_subject_id', 'src_subject_id_src_subject_id', 'interview_date_src_subject_id', 'interview_age_src_subject_id', 'sex_src_subject_id', 'src_subject_id_src_subject_id', 'interview_date_src_subject_id', 'interview_age_src_subject_id', 'sex_src_subject_id', 'src_subject_id_src_subject_id', 'interview_date_src_subject_id', 'interview_age_src_subject_id', 'sex_src_subject_id', 'src_subject_id_src_subject_id', 'interview_date_src_subject_id', 'interview_age_src_subject_id', 'sex_src_subject_id', 'src_subject_id_src_subject_id', 'interview_date_src_subject_id', 'interview_age_src_subject_id', 'sex_src_subject_id', 'src_subject_id_src_subject_id', 'sex_src_subject_id', 'src_subject_id_src_subject_id', 'interview_date_src_subject_id', 'interview_age_src_subject_id', 'sex_src_subject_id', 'src_subject_id_src_subject_id', 'interview_date_src_subject_id', 'interview_age_src_subject_id', 'sex_src_subject_id', 'src_subject_id_src_subject_id', 'interview_date_src_subject_id', 'interview_age_src_subject_id', 'sex_src_subject_id', 'src_subject_id_src_subject_id', 'interview_date_src_subject_id', 'interview_age_src_subject_id', 'sex_src_subject_id', 'tot_timing_src_subject_id', 'qc_tot_num_items_src_subject_id', 'qc_tot_num_nonresp_src_subject_id', 'src_subject_id_src_subject_id', 'interview_date_src_subject_id', 'interview_age_src_subject_id', 'sex_src_subject_id', 'src_subject_id_src_subject_id', 'interview_date_src_subject_id', 'interview_age_src_subject_id', 'sex_src_subject_id', 'src_subject_id_src_subject_id', 'interview_date_src_subject_id', 'interview_age_src_subject_id', 'sex_src_subject_id', 'src_subject_id_src_subject_id', 'interview_date_src_subject_id', 'interview_age_src_subject_id', 'sex_src_subject_id', 'time_first_click_src_subject_id', 'time_Last_Click_src_subject_id', 'tot_timing_src_subject_id', 'qc_tot_num_items_src_subject_id', 'qc_tot_num_nonresp_src_subject_id', 'src_subject_id_src_subject_id', 'interview_date_src_subject_id', 'interview_age_src_subject_id', 'sex_src_subject_id', 'tot_timing_src_subject_id', 'qc_tot_num_items_src_subject_id', 'qc_tot_num_nonresp_src_subject_id', 'time_first_click_src_subject_id', 'time_last_click_src_subject_id', 'time_page_submit_src_subject_id', 'time_click_count_src_subject_id', 'src_subject_id_src_subject_id', 'interview_date_src_subject_id', 'interview_age_src_subject_id', 'sex_src_subject_id', 'src_subject_id_src_subject_id', 'interview_date_src_subject_id', 'interview_age_src_subject_id', 'sex_src_subject_id', 'src_subject_id_src_subject_id', 'interview_date_src_subject_id', 'interview_age_src_subject_id', 'sex_src_subject_id', 'src_subject_id_src_subject_id', 'interview_date_src_subject_id', 'interview_age_src_subject_id', 'sex_src_subject_id', 'src_subject_id_src_subject_id', 'interview_date_src_subject_id', 'interview_age_src_subject_id', 'sex_src_subject_id', 'src_subject_id_src_subject_id', 'interview_date_src_subject_id', 'interview_age_src_subject_id', 'sex_src_subject_id', 'src_subject_id_src_subject_id', 'interview_date_src_subject_id', 'interview_age_src_subject_id', 'sex_src_subject_id', 'src_subject_id_src_subject_id', 'interview_date_src_subject_id', 'interview_age_src_subject_id', 'sex_src_subject_id', 'src_subject_id_src_subject_id', 'interview_date_src_subject_id', 'interview_age_src_subject_id', 'sex_src_subject_id', 'src_subject_id_src_subject_id', 'interview_date_src_subject_id', 'interview_age_src_subject_id', 'sex_src_subject_id']\n",
      "Duplicate counts for each column:\n",
      "Column 'sex_src_subject_id' is duplicated 43 times.\n",
      "Column 'time_first_click_src_subject_id' is duplicated 3 times.\n",
      "Column 'qc_tot_num_nonresp_src_subject_id' is duplicated 4 times.\n",
      "Column 'time_click_count_src_subject_id' is duplicated 2 times.\n",
      "Column 'tot_timing_src_subject_id' is duplicated 4 times.\n",
      "Column 'time_Last_Click_src_subject_id' is duplicated 2 times.\n",
      "Column 'time_page_submit_src_subject_id' is duplicated 2 times.\n",
      "Column 'completed_src_subject_id' is duplicated 2 times.\n",
      "Column 'time_last_click_src_subject_id' is duplicated 2 times.\n",
      "Column 'interview_age_src_subject_id' is duplicated 42 times.\n",
      "Column 'qc_tot_num_items_src_subject_id' is duplicated 4 times.\n",
      "Column 'src_subject_id_src_subject_id' is duplicated 43 times.\n",
      "Column 'interview_date_src_subject_id' is duplicated 41 times.\n",
      "All occurrences of column 'sex_src_subject_id' are identical.\n",
      "Occurrences of column 'time_first_click_src_subject_id' have different values.\n",
      "Occurrences of column 'qc_tot_num_nonresp_src_subject_id' have different values.\n",
      "Occurrences of column 'time_click_count_src_subject_id' have different values.\n",
      "Occurrences of column 'tot_timing_src_subject_id' have different values.\n",
      "Occurrences of column 'time_Last_Click_src_subject_id' have different values.\n",
      "Occurrences of column 'time_page_submit_src_subject_id' have different values.\n",
      "Occurrences of column 'completed_src_subject_id' have different values.\n",
      "Occurrences of column 'time_last_click_src_subject_id' have different values.\n",
      "Occurrences of column 'interview_age_src_subject_id' have different values.\n",
      "Occurrences of column 'qc_tot_num_items_src_subject_id' have different values.\n",
      "All occurrences of column 'src_subject_id_src_subject_id' are identical.\n",
      "Occurrences of column 'interview_date_src_subject_id' have different values.\n"
     ]
    }
   ],
   "source": [
    "df = phenotype\n",
    "\n",
    "# Step 1: Identify duplicated column names\n",
    "duplicated_columns = df.columns[df.columns.duplicated()].tolist()\n",
    "\n",
    "if duplicated_columns:\n",
    "    print(f\"Duplicated columns found: {duplicated_columns}\")\n",
    "    \n",
    "    # Step 2: Count how many times each column is duplicated\n",
    "    duplicate_counts = {col: (df.columns == col).sum() for col in set(duplicated_columns)}\n",
    "    print(\"Duplicate counts for each column:\")\n",
    "    for col, count in duplicate_counts.items():\n",
    "        print(f\"Column '{col}' is duplicated {count} times.\")\n",
    "    \n",
    "    # Step 3: Check if all duplicates are identical\n",
    "    for col in set(duplicated_columns):\n",
    "        # Select all occurrences of the duplicated column\n",
    "        duplicate_data = df.loc[:, df.columns == col]\n",
    "        \n",
    "        # Check if all columns are identical\n",
    "        are_identical = duplicate_data.nunique(axis=1).eq(1).all()\n",
    "        \n",
    "        if are_identical:\n",
    "            print(f\"All occurrences of column '{col}' are identical.\")\n",
    "        else:\n",
    "            print(f\"Occurrences of column '{col}' have different values.\")\n",
    "else:\n",
    "    print(\"No duplicated columns found.\")"
   ]
  }
 ],
 "metadata": {
  "kernelspec": {
   "display_name": "Python 3 (ipykernel)",
   "language": "python",
   "name": "python3"
  }
 },
 "nbformat": 4,
 "nbformat_minor": 2
}
