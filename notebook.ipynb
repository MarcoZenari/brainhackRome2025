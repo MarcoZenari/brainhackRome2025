{
 "cells": [
  {
   "cell_type": "code",
   "execution_count": 1,
   "metadata": {},
   "outputs": [],
   "source": [
    "# Imports\n",
    "import numpy as np\n",
    "from utility import load_fmri, load_phenotype"
   ]
  },
  {
   "cell_type": "code",
   "execution_count": null,
   "metadata": {},
   "outputs": [],
   "source": [
    "from ssm.plots import gradient_cmap, white_to_color_cmap\n",
    "\n",
    "import seaborn as sns\n",
    "sns.set_style(\"white\")\n",
    "sns.set_context(\"talk\")\n",
    "\n",
    "color_names = [\n",
    "    \"windows blue\",\n",
    "    \"red\",\n",
    "    \"amber\",\n",
    "    \"faded green\",\n",
    "    \"dusty purple\",\n",
    "    \"orange\"\n",
    "    ]\n",
    "\n",
    "colors = sns.xkcd_palette(color_names)\n",
    "cmap = gradient_cmap(colors)"
   ]
  },
  {
   "cell_type": "code",
   "execution_count": 2,
   "metadata": {},
   "outputs": [
    {
     "name": "stdout",
     "output_type": "stream",
     "text": [
      "No files found matching *task-hammer*.h5 in NDAR_INVBL062HTE\n",
      "No files found matching *task-hammer*.h5 in NDAR_INVBY805EE5\n",
      "No files found matching *task-hammer*.h5 in NDAR_INVGB371PPV\n",
      "No files found matching *task-hammer*.h5 in NDAR_INVGT021UPR\n",
      "No files found matching *task-hammer*.h5 in NDAR_INVHA329EL1\n",
      "No files found matching *task-hammer*.h5 in NDAR_INVLL260KC0\n",
      "No files found matching *task-hammer*.h5 in NDAR_INVPF283TAQ\n",
      "No files found matching *task-hammer*.h5 in NDAR_INVRR054KAM\n",
      "No files found matching *task-hammer*.h5 in NDAR_INVUA181LXU\n",
      "No files found matching *task-hammer*.h5 in NDAR_INVVU614ZKP\n",
      "No files found matching *task-hammer*.h5 in NDAR_INVXR625UBQ\n",
      "No files found matching *task-hammer*.h5 in NDAR_INVXV404VJL\n",
      "No files found matching *task-hammer*.h5 in NDAR_INVYT858CBN\n",
      "No files found matching *task-hammer*.h5 in NDAR_INVZH090MNG\n",
      "No files found matching *task-hammer*.h5 in NDAR_INVZU586UPF\n"
     ]
    }
   ],
   "source": [
    "# Load the data\n",
    "data_root = \"/home/calesella/projects/brainhack/data/fMRI_timeseries_clean_denoised_GSR_parcellated\"\n",
    "file_filter = \"*task-hammer*.h5\"\n",
    "data, subjects = load_fmri(data_root, file_filter)"
   ]
  },
  {
   "cell_type": "code",
   "execution_count": 3,
   "metadata": {},
   "outputs": [],
   "source": [
    "data = np.array( [array for array in data if array.shape[1]==493] )  # Filter the data for subject that completed the task"
   ]
  },
  {
   "cell_type": "code",
   "execution_count": 4,
   "metadata": {},
   "outputs": [],
   "source": [
    "bold_data_zsc = np.array([\n",
    "        (bold_sub - np.mean(bold_sub, axis=1, keepdims=True)) / np.std(bold_sub, axis=1, keepdims=True)\n",
    "        for bold_sub in data\n",
    "    ])"
   ]
  },
  {
   "cell_type": "code",
   "execution_count": 5,
   "metadata": {},
   "outputs": [
    {
     "data": {
      "text/plain": [
       "(219, 434, 493)"
      ]
     },
     "execution_count": 5,
     "metadata": {},
     "output_type": "execute_result"
    }
   ],
   "source": [
    "bold_data_zsc.shape"
   ]
  },
  {
   "cell_type": "code",
   "execution_count": 6,
   "metadata": {},
   "outputs": [
    {
     "data": {
      "text/plain": [
       "(434, 107967)"
      ]
     },
     "execution_count": 6,
     "metadata": {},
     "output_type": "execute_result"
    }
   ],
   "source": [
    "concatenated_data = bold_data_zsc.transpose(1, 0, 2)\n",
    "concatenated_data = concatenated_data.reshape(434, -1)\n",
    "concatenated_data.shape"
   ]
  },
  {
   "cell_type": "code",
   "execution_count": 7,
   "metadata": {},
   "outputs": [
    {
     "data": {
      "text/plain": [
       "(107967, 50)"
      ]
     },
     "execution_count": 7,
     "metadata": {},
     "output_type": "execute_result"
    }
   ],
   "source": [
    "from sklearn.decomposition import PCA\n",
    "pca = PCA(n_components=50)\n",
    "compressed_data = pca.fit_transform(concatenated_data.T)\n",
    "compressed_data.shape"
   ]
  },
  {
   "cell_type": "code",
   "execution_count": 8,
   "metadata": {},
   "outputs": [
    {
     "name": "stderr",
     "output_type": "stream",
     "text": [
      "/home/calesella/miniconda3/envs/myenv/lib/python3.11/site-packages/tqdm/auto.py:21: TqdmWarning: IProgress not found. Please update jupyter and ipywidgets. See https://ipywidgets.readthedocs.io/en/stable/user_install.html\n",
      "  from .autonotebook import tqdm as notebook_tqdm\n",
      "/home/calesella/miniconda3/envs/myenv/lib/python3.11/site-packages/autograd/tracer.py:48: RuntimeWarning: divide by zero encountered in log\n",
      "  return f_raw(*args, **kwargs)\n",
      "LP: -9966175.7:   0%|          | 0/100 [00:00<?, ?it/s]/home/calesella/miniconda3/envs/myenv/lib/python3.11/site-packages/autograd/tracer.py:48: RuntimeWarning: divide by zero encountered in log\n",
      "  return f_raw(*args, **kwargs)\n",
      "LP: -9966175.7:   0%|          | 0/100 [00:05<?, ?it/s]\n"
     ]
    },
    {
     "ename": "KeyboardInterrupt",
     "evalue": "",
     "output_type": "error",
     "traceback": [
      "\u001b[0;31m---------------------------------------------------------------------------\u001b[0m",
      "\u001b[0;31mKeyboardInterrupt\u001b[0m                         Traceback (most recent call last)",
      "Cell \u001b[0;32mIn[8], line 8\u001b[0m\n\u001b[1;32m      6\u001b[0m \u001b[38;5;66;03m# make an hmm and sample from it\u001b[39;00m\n\u001b[1;32m      7\u001b[0m hmm \u001b[38;5;241m=\u001b[39m ssm\u001b[38;5;241m.\u001b[39mHSMM(K, D, observations\u001b[38;5;241m=\u001b[39m\u001b[38;5;124m\"\u001b[39m\u001b[38;5;124mgaussian\u001b[39m\u001b[38;5;124m\"\u001b[39m)\n\u001b[0;32m----> 8\u001b[0m hmm_lls \u001b[38;5;241m=\u001b[39m \u001b[43mhmm\u001b[49m\u001b[38;5;241;43m.\u001b[39;49m\u001b[43mfit\u001b[49m\u001b[43m(\u001b[49m\u001b[43mcompressed_data\u001b[49m\u001b[43m,\u001b[49m\u001b[43m \u001b[49m\u001b[43mmethod\u001b[49m\u001b[38;5;241;43m=\u001b[39;49m\u001b[38;5;124;43m\"\u001b[39;49m\u001b[38;5;124;43mem\u001b[39;49m\u001b[38;5;124;43m\"\u001b[39;49m\u001b[43m,\u001b[49m\u001b[43m \u001b[49m\u001b[43minit_method\u001b[49m\u001b[38;5;241;43m=\u001b[39;49m\u001b[38;5;124;43m\"\u001b[39;49m\u001b[38;5;124;43mkmeans\u001b[39;49m\u001b[38;5;124;43m\"\u001b[39;49m\u001b[43m)\u001b[49m\n",
      "File \u001b[0;32m~/projects/brainhack/submodules/ssm/ssm/util.py:111\u001b[0m, in \u001b[0;36mensure_args_are_lists.<locals>.wrapper\u001b[0;34m(self, datas, inputs, masks, tags, **kwargs)\u001b[0m\n\u001b[1;32m    108\u001b[0m \u001b[38;5;28;01melif\u001b[39;00m \u001b[38;5;129;01mnot\u001b[39;00m \u001b[38;5;28misinstance\u001b[39m(tags, (\u001b[38;5;28mlist\u001b[39m, \u001b[38;5;28mtuple\u001b[39m)):\n\u001b[1;32m    109\u001b[0m     tags \u001b[38;5;241m=\u001b[39m [tags]\n\u001b[0;32m--> 111\u001b[0m \u001b[38;5;28;01mreturn\u001b[39;00m \u001b[43mf\u001b[49m\u001b[43m(\u001b[49m\u001b[38;5;28;43mself\u001b[39;49m\u001b[43m,\u001b[49m\u001b[43m \u001b[49m\u001b[43mdatas\u001b[49m\u001b[43m,\u001b[49m\u001b[43m \u001b[49m\u001b[43minputs\u001b[49m\u001b[38;5;241;43m=\u001b[39;49m\u001b[43minputs\u001b[49m\u001b[43m,\u001b[49m\u001b[43m \u001b[49m\u001b[43mmasks\u001b[49m\u001b[38;5;241;43m=\u001b[39;49m\u001b[43mmasks\u001b[49m\u001b[43m,\u001b[49m\u001b[43m \u001b[49m\u001b[43mtags\u001b[49m\u001b[38;5;241;43m=\u001b[39;49m\u001b[43mtags\u001b[49m\u001b[43m,\u001b[49m\u001b[43m \u001b[49m\u001b[38;5;241;43m*\u001b[39;49m\u001b[38;5;241;43m*\u001b[39;49m\u001b[43mkwargs\u001b[49m\u001b[43m)\u001b[49m\n",
      "File \u001b[0;32m~/projects/brainhack/submodules/ssm/ssm/hmm.py:816\u001b[0m, in \u001b[0;36mHSMM.fit\u001b[0;34m(self, datas, inputs, masks, tags, verbose, method, initialize, **kwargs)\u001b[0m\n\u001b[1;32m    813\u001b[0m \u001b[38;5;28;01mif\u001b[39;00m initialize:\n\u001b[1;32m    814\u001b[0m     \u001b[38;5;28mself\u001b[39m\u001b[38;5;241m.\u001b[39minitialize(datas, inputs\u001b[38;5;241m=\u001b[39minputs, masks\u001b[38;5;241m=\u001b[39mmasks, tags\u001b[38;5;241m=\u001b[39mtags, \u001b[38;5;241m*\u001b[39m\u001b[38;5;241m*\u001b[39mkwargs)\n\u001b[0;32m--> 816\u001b[0m \u001b[38;5;28;01mreturn\u001b[39;00m \u001b[43m_fitting_methods\u001b[49m\u001b[43m[\u001b[49m\u001b[43mmethod\u001b[49m\u001b[43m]\u001b[49m\u001b[43m(\u001b[49m\u001b[43mdatas\u001b[49m\u001b[43m,\u001b[49m\u001b[43m \u001b[49m\u001b[43minputs\u001b[49m\u001b[38;5;241;43m=\u001b[39;49m\u001b[43minputs\u001b[49m\u001b[43m,\u001b[49m\u001b[43m \u001b[49m\u001b[43mmasks\u001b[49m\u001b[38;5;241;43m=\u001b[39;49m\u001b[43mmasks\u001b[49m\u001b[43m,\u001b[49m\u001b[43m \u001b[49m\u001b[43mtags\u001b[49m\u001b[38;5;241;43m=\u001b[39;49m\u001b[43mtags\u001b[49m\u001b[43m,\u001b[49m\u001b[43m \u001b[49m\u001b[43mverbose\u001b[49m\u001b[43m \u001b[49m\u001b[38;5;241;43m=\u001b[39;49m\u001b[43m \u001b[49m\u001b[43mverbose\u001b[49m\u001b[43m,\u001b[49m\u001b[43m \u001b[49m\u001b[38;5;241;43m*\u001b[39;49m\u001b[38;5;241;43m*\u001b[39;49m\u001b[43mkwargs\u001b[49m\u001b[43m)\u001b[49m\n",
      "File \u001b[0;32m~/projects/brainhack/submodules/ssm/ssm/hmm.py:785\u001b[0m, in \u001b[0;36mHSMM._fit_em\u001b[0;34m(self, datas, inputs, masks, tags, verbose, num_iters, **kwargs)\u001b[0m\n\u001b[1;32m    781\u001b[0m pbar \u001b[38;5;241m=\u001b[39m ssm_pbar(num_iters, verbose, \u001b[38;5;124m\"\u001b[39m\u001b[38;5;124mLP: \u001b[39m\u001b[38;5;132;01m{:.1f}\u001b[39;00m\u001b[38;5;124m\"\u001b[39m, [lls[\u001b[38;5;241m-\u001b[39m\u001b[38;5;241m1\u001b[39m]])\n\u001b[1;32m    783\u001b[0m \u001b[38;5;28;01mfor\u001b[39;00m itr \u001b[38;5;129;01min\u001b[39;00m pbar:\n\u001b[1;32m    784\u001b[0m     \u001b[38;5;66;03m# E step: compute expected latent states with current parameters\u001b[39;00m\n\u001b[0;32m--> 785\u001b[0m     expectations \u001b[38;5;241m=\u001b[39m \u001b[43m[\u001b[49m\u001b[38;5;28;43mself\u001b[39;49m\u001b[38;5;241;43m.\u001b[39;49m\u001b[43mexpected_states\u001b[49m\u001b[43m(\u001b[49m\u001b[43mdata\u001b[49m\u001b[43m,\u001b[49m\u001b[43m \u001b[49m\u001b[38;5;28;43minput\u001b[39;49m\u001b[43m,\u001b[49m\u001b[43m \u001b[49m\u001b[43mmask\u001b[49m\u001b[43m,\u001b[49m\u001b[43m \u001b[49m\u001b[43mtag\u001b[49m\u001b[43m)\u001b[49m\n\u001b[1;32m    786\u001b[0m \u001b[43m                    \u001b[49m\u001b[38;5;28;43;01mfor\u001b[39;49;00m\u001b[43m \u001b[49m\u001b[43mdata\u001b[49m\u001b[43m,\u001b[49m\u001b[43m \u001b[49m\u001b[38;5;28;43minput\u001b[39;49m\u001b[43m,\u001b[49m\u001b[43m \u001b[49m\u001b[43mmask\u001b[49m\u001b[43m,\u001b[49m\u001b[43m \u001b[49m\u001b[43mtag\u001b[49m\u001b[43m \u001b[49m\u001b[38;5;129;43;01min\u001b[39;49;00m\u001b[43m \u001b[49m\u001b[38;5;28;43mzip\u001b[39;49m\u001b[43m(\u001b[49m\u001b[43mdatas\u001b[49m\u001b[43m,\u001b[49m\u001b[43m \u001b[49m\u001b[43minputs\u001b[49m\u001b[43m,\u001b[49m\u001b[43m \u001b[49m\u001b[43mmasks\u001b[49m\u001b[43m,\u001b[49m\u001b[43m \u001b[49m\u001b[43mtags\u001b[49m\u001b[43m)\u001b[49m\u001b[43m]\u001b[49m\n\u001b[1;32m    788\u001b[0m     \u001b[38;5;66;03m# E step: also sample the posterior for stochastic M step of transition model\u001b[39;00m\n\u001b[1;32m    789\u001b[0m     samples \u001b[38;5;241m=\u001b[39m [\u001b[38;5;28mself\u001b[39m\u001b[38;5;241m.\u001b[39mposterior_sample(data, \u001b[38;5;28minput\u001b[39m, mask, tag)\n\u001b[1;32m    790\u001b[0m                \u001b[38;5;28;01mfor\u001b[39;00m data, \u001b[38;5;28minput\u001b[39m, mask, tag \u001b[38;5;129;01min\u001b[39;00m \u001b[38;5;28mzip\u001b[39m(datas, inputs, masks, tags)]\n",
      "File \u001b[0;32m~/projects/brainhack/submodules/ssm/ssm/hmm.py:785\u001b[0m, in \u001b[0;36m<listcomp>\u001b[0;34m(.0)\u001b[0m\n\u001b[1;32m    781\u001b[0m pbar \u001b[38;5;241m=\u001b[39m ssm_pbar(num_iters, verbose, \u001b[38;5;124m\"\u001b[39m\u001b[38;5;124mLP: \u001b[39m\u001b[38;5;132;01m{:.1f}\u001b[39;00m\u001b[38;5;124m\"\u001b[39m, [lls[\u001b[38;5;241m-\u001b[39m\u001b[38;5;241m1\u001b[39m]])\n\u001b[1;32m    783\u001b[0m \u001b[38;5;28;01mfor\u001b[39;00m itr \u001b[38;5;129;01min\u001b[39;00m pbar:\n\u001b[1;32m    784\u001b[0m     \u001b[38;5;66;03m# E step: compute expected latent states with current parameters\u001b[39;00m\n\u001b[0;32m--> 785\u001b[0m     expectations \u001b[38;5;241m=\u001b[39m [\u001b[38;5;28;43mself\u001b[39;49m\u001b[38;5;241;43m.\u001b[39;49m\u001b[43mexpected_states\u001b[49m\u001b[43m(\u001b[49m\u001b[43mdata\u001b[49m\u001b[43m,\u001b[49m\u001b[43m \u001b[49m\u001b[38;5;28;43minput\u001b[39;49m\u001b[43m,\u001b[49m\u001b[43m \u001b[49m\u001b[43mmask\u001b[49m\u001b[43m,\u001b[49m\u001b[43m \u001b[49m\u001b[43mtag\u001b[49m\u001b[43m)\u001b[49m\n\u001b[1;32m    786\u001b[0m                     \u001b[38;5;28;01mfor\u001b[39;00m data, \u001b[38;5;28minput\u001b[39m, mask, tag \u001b[38;5;129;01min\u001b[39;00m \u001b[38;5;28mzip\u001b[39m(datas, inputs, masks, tags)]\n\u001b[1;32m    788\u001b[0m     \u001b[38;5;66;03m# E step: also sample the posterior for stochastic M step of transition model\u001b[39;00m\n\u001b[1;32m    789\u001b[0m     samples \u001b[38;5;241m=\u001b[39m [\u001b[38;5;28mself\u001b[39m\u001b[38;5;241m.\u001b[39mposterior_sample(data, \u001b[38;5;28minput\u001b[39m, mask, tag)\n\u001b[1;32m    790\u001b[0m                \u001b[38;5;28;01mfor\u001b[39;00m data, \u001b[38;5;28minput\u001b[39m, mask, tag \u001b[38;5;129;01min\u001b[39;00m \u001b[38;5;28mzip\u001b[39m(datas, inputs, masks, tags)]\n",
      "File \u001b[0;32m~/projects/brainhack/submodules/ssm/ssm/util.py:158\u001b[0m, in \u001b[0;36mensure_args_not_none.<locals>.wrapper\u001b[0;34m(self, data, input, mask, tag, **kwargs)\u001b[0m\n\u001b[1;32m    155\u001b[0m \u001b[38;5;28minput\u001b[39m \u001b[38;5;241m=\u001b[39m np\u001b[38;5;241m.\u001b[39mzeros((data\u001b[38;5;241m.\u001b[39mshape[\u001b[38;5;241m0\u001b[39m],) \u001b[38;5;241m+\u001b[39m M) \u001b[38;5;28;01mif\u001b[39;00m \u001b[38;5;28minput\u001b[39m \u001b[38;5;129;01mis\u001b[39;00m \u001b[38;5;28;01mNone\u001b[39;00m \u001b[38;5;28;01melse\u001b[39;00m \u001b[38;5;28minput\u001b[39m\n\u001b[1;32m    157\u001b[0m mask \u001b[38;5;241m=\u001b[39m np\u001b[38;5;241m.\u001b[39mones_like(data, dtype\u001b[38;5;241m=\u001b[39m\u001b[38;5;28mbool\u001b[39m) \u001b[38;5;28;01mif\u001b[39;00m mask \u001b[38;5;129;01mis\u001b[39;00m \u001b[38;5;28;01mNone\u001b[39;00m \u001b[38;5;28;01melse\u001b[39;00m mask\n\u001b[0;32m--> 158\u001b[0m \u001b[38;5;28;01mreturn\u001b[39;00m \u001b[43mf\u001b[49m\u001b[43m(\u001b[49m\u001b[38;5;28;43mself\u001b[39;49m\u001b[43m,\u001b[49m\u001b[43m \u001b[49m\u001b[43mdata\u001b[49m\u001b[43m,\u001b[49m\u001b[43m \u001b[49m\u001b[38;5;28;43minput\u001b[39;49m\u001b[38;5;241;43m=\u001b[39;49m\u001b[38;5;28;43minput\u001b[39;49m\u001b[43m,\u001b[49m\u001b[43m \u001b[49m\u001b[43mmask\u001b[49m\u001b[38;5;241;43m=\u001b[39;49m\u001b[43mmask\u001b[49m\u001b[43m,\u001b[49m\u001b[43m \u001b[49m\u001b[43mtag\u001b[49m\u001b[38;5;241;43m=\u001b[39;49m\u001b[43mtag\u001b[49m\u001b[43m,\u001b[49m\u001b[43m \u001b[49m\u001b[38;5;241;43m*\u001b[39;49m\u001b[38;5;241;43m*\u001b[39;49m\u001b[43mkwargs\u001b[49m\u001b[43m)\u001b[49m\n",
      "File \u001b[0;32m~/projects/brainhack/submodules/ssm/ssm/hmm.py:699\u001b[0m, in \u001b[0;36mHSMM.expected_states\u001b[0;34m(self, data, input, mask, tag)\u001b[0m\n\u001b[1;32m    697\u001b[0m Ps \u001b[38;5;241m=\u001b[39m \u001b[38;5;28mself\u001b[39m\u001b[38;5;241m.\u001b[39mtransitions\u001b[38;5;241m.\u001b[39mtransition_matrices(data, \u001b[38;5;28minput\u001b[39m, mask, tag)\n\u001b[1;32m    698\u001b[0m log_likes \u001b[38;5;241m=\u001b[39m \u001b[38;5;28mself\u001b[39m\u001b[38;5;241m.\u001b[39mobservations\u001b[38;5;241m.\u001b[39mlog_likelihoods(data, \u001b[38;5;28minput\u001b[39m, mask, tag)\n\u001b[0;32m--> 699\u001b[0m Ez, Ezzp1, normalizer \u001b[38;5;241m=\u001b[39m \u001b[43mhmm_expected_states\u001b[49m\u001b[43m(\u001b[49m\u001b[43mreplicate\u001b[49m\u001b[43m(\u001b[49m\u001b[43mpi0\u001b[49m\u001b[43m,\u001b[49m\u001b[43m \u001b[49m\u001b[43mm\u001b[49m\u001b[43m)\u001b[49m\u001b[43m,\u001b[49m\u001b[43m \u001b[49m\u001b[43mPs\u001b[49m\u001b[43m,\u001b[49m\u001b[43m \u001b[49m\u001b[43mreplicate\u001b[49m\u001b[43m(\u001b[49m\u001b[43mlog_likes\u001b[49m\u001b[43m,\u001b[49m\u001b[43m \u001b[49m\u001b[43mm\u001b[49m\u001b[43m)\u001b[49m\u001b[43m)\u001b[49m\n\u001b[1;32m    701\u001b[0m \u001b[38;5;66;03m# Collapse the expected states\u001b[39;00m\n\u001b[1;32m    702\u001b[0m Ez \u001b[38;5;241m=\u001b[39m collapse(Ez, m)\n",
      "File \u001b[0;32m~/projects/brainhack/submodules/ssm/ssm/messages.py:169\u001b[0m, in \u001b[0;36mhmm_expected_states\u001b[0;34m(pi0, Ps, ll)\u001b[0m\n\u001b[1;32m    166\u001b[0m T, K \u001b[38;5;241m=\u001b[39m ll\u001b[38;5;241m.\u001b[39mshape\n\u001b[1;32m    168\u001b[0m alphas \u001b[38;5;241m=\u001b[39m np\u001b[38;5;241m.\u001b[39mzeros((T, K))\n\u001b[0;32m--> 169\u001b[0m \u001b[43mforward_pass\u001b[49m\u001b[43m(\u001b[49m\u001b[43mpi0\u001b[49m\u001b[43m,\u001b[49m\u001b[43m \u001b[49m\u001b[43mPs\u001b[49m\u001b[43m,\u001b[49m\u001b[43m \u001b[49m\u001b[43mll\u001b[49m\u001b[43m,\u001b[49m\u001b[43m \u001b[49m\u001b[43malphas\u001b[49m\u001b[43m)\u001b[49m\n\u001b[1;32m    170\u001b[0m normalizer \u001b[38;5;241m=\u001b[39m logsumexp(alphas[\u001b[38;5;241m-\u001b[39m\u001b[38;5;241m1\u001b[39m])\n\u001b[1;32m    172\u001b[0m betas \u001b[38;5;241m=\u001b[39m np\u001b[38;5;241m.\u001b[39mzeros((T, K))\n",
      "\u001b[0;31mKeyboardInterrupt\u001b[0m: "
     ]
    }
   ],
   "source": [
    "import ssm\n",
    "T = compressed_data.shape[0]  # number of time bins\n",
    "K = 5    # number of discrete states\n",
    "D = compressed_data.shape[1]    # dimension of the observations\n",
    "\n",
    "# make an hmm and sample from it\n",
    "hmm = ssm.HSMM(K, D, observations=\"gaussian\")\n",
    "hmm_lls = hmm.fit(compressed_data, method=\"em\", init_method=\"kmeans\")"
   ]
  },
  {
   "cell_type": "code",
   "execution_count": 9,
   "metadata": {},
   "outputs": [
    {
     "ename": "NameError",
     "evalue": "name 'hmm_lls' is not defined",
     "output_type": "error",
     "traceback": [
      "\u001b[0;31m---------------------------------------------------------------------------\u001b[0m",
      "\u001b[0;31mNameError\u001b[0m                                 Traceback (most recent call last)",
      "Cell \u001b[0;32mIn[9], line 2\u001b[0m\n\u001b[1;32m      1\u001b[0m \u001b[38;5;28;01mimport\u001b[39;00m \u001b[38;5;21;01mmatplotlib\u001b[39;00m\u001b[38;5;21;01m.\u001b[39;00m\u001b[38;5;21;01mpyplot\u001b[39;00m \u001b[38;5;28;01mas\u001b[39;00m \u001b[38;5;21;01mplt\u001b[39;00m\n\u001b[0;32m----> 2\u001b[0m plt\u001b[38;5;241m.\u001b[39mplot(\u001b[43mhmm_lls\u001b[49m, label\u001b[38;5;241m=\u001b[39m\u001b[38;5;124m\"\u001b[39m\u001b[38;5;124mEM\u001b[39m\u001b[38;5;124m\"\u001b[39m)\n\u001b[1;32m      3\u001b[0m plt\u001b[38;5;241m.\u001b[39mxlabel(\u001b[38;5;124m\"\u001b[39m\u001b[38;5;124mEM Iteration\u001b[39m\u001b[38;5;124m\"\u001b[39m)\n\u001b[1;32m      4\u001b[0m plt\u001b[38;5;241m.\u001b[39mylabel(\u001b[38;5;124m\"\u001b[39m\u001b[38;5;124mLog Probability\u001b[39m\u001b[38;5;124m\"\u001b[39m)\n",
      "\u001b[0;31mNameError\u001b[0m: name 'hmm_lls' is not defined"
     ]
    }
   ],
   "source": [
    "import matplotlib.pyplot as plt\n",
    "plt.plot(hmm_lls, label=\"EM\")\n",
    "plt.xlabel(\"EM Iteration\")\n",
    "plt.ylabel(\"Log Probability\")\n",
    "plt.legend(loc=\"lower right\")\n",
    "plt.show()"
   ]
  },
  {
   "cell_type": "code",
   "execution_count": 16,
   "metadata": {},
   "outputs": [
    {
     "data": {
      "text/plain": [
       "Text(0.5, 0, 'time')"
      ]
     },
     "execution_count": 16,
     "metadata": {},
     "output_type": "execute_result"
    },
    {
     "data": {
      "image/png": "[encoded data removed]",
      "text/plain": [
       "<Figure size 800x400 with 1 Axes>"
      ]
     },
     "metadata": {},
     "output_type": "display_data"
    }
   ],
   "source": [
    "# Plot the true and inferred discrete states\n",
    "hmm_z = hmm.most_likely_states(compressed_data)\n",
    "\n",
    "plt.figure(figsize=(8, 4))\n",
    "plt.imshow(hmm_z[None,:], aspect=\"auto\", cmap=cmap, vmin=0, vmax=len(colors)-1)\n",
    "plt.xlim(0, T)\n",
    "plt.ylabel(\"$z_{\\\\mathrm{inferred}}$\")\n",
    "plt.yticks([])\n",
    "plt.xlabel(\"time\")"
   ]
  },
  {
   "cell_type": "code",
   "execution_count": 7,
   "metadata": {},
   "outputs": [
    {
     "name": "stderr",
     "output_type": "stream",
     "text": [
      "/home/calesella/miniconda3/envs/myenv/lib/python3.11/site-packages/tqdm/auto.py:21: TqdmWarning: IProgress not found. Please update jupyter and ipywidgets. See https://ipywidgets.readthedocs.io/en/stable/user_install.html\n",
      "  from .autonotebook import tqdm as notebook_tqdm\n"
     ]
    },
    {
     "ename": "",
     "evalue": "",
     "output_type": "error",
     "traceback": [
      "\u001b[1;31mThe Kernel crashed while executing code in the current cell or a previous cell. \n",
      "\u001b[1;31mPlease review the code in the cell(s) to identify a possible cause of the failure. \n",
      "\u001b[1;31mClick <a href='https://aka.ms/vscodeJupyterKernelCrash'>here</a> for more info. \n",
      "\u001b[1;31mView Jupyter <a href='command:jupyter.viewOutput'>log</a> for further details."
     ]
    },
    {
     "ename": "",
     "evalue": "",
     "output_type": "error",
     "traceback": [
      "\u001b[1;31mCanceled future for execute_request message before replies were done"
     ]
    },
    {
     "ename": "",
     "evalue": "",
     "output_type": "error",
     "traceback": [
      "\u001b[1;31mCanceled future for execute_request message before replies were done. \n",
      "\u001b[1;31mView Jupyter <a href='command:jupyter.viewOutput'>log</a> for further details."
     ]
    }
   ],
   "source": [
    "import ssm\n",
    "T = concatenated_data[1]  # number of time bins\n",
    "K = 3    # number of discrete states\n",
    "D = concatenated_data.shape[0]    # dimension of the observations\n",
    "\n",
    "# make an hmm and sample from it\n",
    "hmm = ssm.HMM(K, D, observations=\"gaussian\")\n",
    "hmm_lls = hmm.fit(concatenated_data.T, method=\"em\", num_iters=50, init_method=\"kmeans\")"
   ]
  },
  {
   "cell_type": "markdown",
   "metadata": {},
   "source": [
    "# Backup code"
   ]
  },
  {
   "cell_type": "code",
   "execution_count": 2,
   "metadata": {},
   "outputs": [],
   "source": [
    "data_root = \"/home/calesella/projects/brainhack/data/phenotype\"\n",
    "phenotype = load_phenotype(data_root)"
   ]
  },
  {
   "cell_type": "code",
   "execution_count": 6,
   "metadata": {},
   "outputs": [
    {
     "name": "stdout",
     "output_type": "stream",
     "text": [
      "Duplicated columns found: ['src_subject_id_src_subject_id', 'interview_date_src_subject_id', 'interview_age_src_subject_id', 'sex_src_subject_id', 'src_subject_id_src_subject_id', 'interview_date_src_subject_id', 'interview_age_src_subject_id', 'sex_src_subject_id', 'src_subject_id_src_subject_id', 'interview_date_src_subject_id', 'interview_age_src_subject_id', 'sex_src_subject_id', 'src_subject_id_src_subject_id', 'interview_date_src_subject_id', 'interview_age_src_subject_id', 'sex_src_subject_id', 'src_subject_id_src_subject_id', 'interview_date_src_subject_id', 'interview_age_src_subject_id', 'sex_src_subject_id', 'src_subject_id_src_subject_id', 'interview_date_src_subject_id', 'interview_age_src_subject_id', 'sex_src_subject_id', 'src_subject_id_src_subject_id', 'interview_date_src_subject_id', 'interview_age_src_subject_id', 'sex_src_subject_id', 'src_subject_id_src_subject_id', 'interview_date_src_subject_id', 'interview_age_src_subject_id', 'sex_src_subject_id', 'src_subject_id_src_subject_id', 'interview_date_src_subject_id', 'interview_age_src_subject_id', 'sex_src_subject_id', 'src_subject_id_src_subject_id', 'interview_age_src_subject_id', 'sex_src_subject_id', 'src_subject_id_src_subject_id', 'interview_date_src_subject_id', 'interview_age_src_subject_id', 'sex_src_subject_id', 'src_subject_id_src_subject_id', 'interview_date_src_subject_id', 'interview_age_src_subject_id', 'sex_src_subject_id', 'src_subject_id_src_subject_id', 'interview_date_src_subject_id', 'interview_age_src_subject_id', 'sex_src_subject_id', 'src_subject_id_src_subject_id', 'interview_date_src_subject_id', 'interview_age_src_subject_id', 'sex_src_subject_id', 'src_subject_id_src_subject_id', 'interview_date_src_subject_id', 'interview_age_src_subject_id', 'sex_src_subject_id', 'completed_src_subject_id', 'src_subject_id_src_subject_id', 'interview_date_src_subject_id', 'interview_age_src_subject_id', 'sex_src_subject_id', 'src_subject_id_src_subject_id', 'interview_date_src_subject_id', 'interview_age_src_subject_id', 'sex_src_subject_id', 'src_subject_id_src_subject_id', 'interview_date_src_subject_id', 'interview_age_src_subject_id', 'sex_src_subject_id', 'src_subject_id_src_subject_id', 'interview_date_src_subject_id', 'interview_age_src_subject_id', 'sex_src_subject_id', 'src_subject_id_src_subject_id', 'interview_date_src_subject_id', 'interview_age_src_subject_id', 'sex_src_subject_id', 'src_subject_id_src_subject_id', 'interview_date_src_subject_id', 'interview_age_src_subject_id', 'sex_src_subject_id', 'src_subject_id_src_subject_id', 'interview_date_src_subject_id', 'interview_age_src_subject_id', 'sex_src_subject_id', 'src_subject_id_src_subject_id', 'sex_src_subject_id', 'src_subject_id_src_subject_id', 'interview_date_src_subject_id', 'interview_age_src_subject_id', 'sex_src_subject_id', 'src_subject_id_src_subject_id', 'interview_date_src_subject_id', 'interview_age_src_subject_id', 'sex_src_subject_id', 'src_subject_id_src_subject_id', 'interview_date_src_subject_id', 'interview_age_src_subject_id', 'sex_src_subject_id', 'src_subject_id_src_subject_id', 'interview_date_src_subject_id', 'interview_age_src_subject_id', 'sex_src_subject_id', 'tot_timing_src_subject_id', 'qc_tot_num_items_src_subject_id', 'qc_tot_num_nonresp_src_subject_id', 'src_subject_id_src_subject_id', 'interview_date_src_subject_id', 'interview_age_src_subject_id', 'sex_src_subject_id', 'src_subject_id_src_subject_id', 'interview_date_src_subject_id', 'interview_age_src_subject_id', 'sex_src_subject_id', 'src_subject_id_src_subject_id', 'interview_date_src_subject_id', 'interview_age_src_subject_id', 'sex_src_subject_id', 'src_subject_id_src_subject_id', 'interview_date_src_subject_id', 'interview_age_src_subject_id', 'sex_src_subject_id', 'time_first_click_src_subject_id', 'time_Last_Click_src_subject_id', 'tot_timing_src_subject_id', 'qc_tot_num_items_src_subject_id', 'qc_tot_num_nonresp_src_subject_id', 'src_subject_id_src_subject_id', 'interview_date_src_subject_id', 'interview_age_src_subject_id', 'sex_src_subject_id', 'tot_timing_src_subject_id', 'qc_tot_num_items_src_subject_id', 'qc_tot_num_nonresp_src_subject_id', 'time_first_click_src_subject_id', 'time_last_click_src_subject_id', 'time_page_submit_src_subject_id', 'time_click_count_src_subject_id', 'src_subject_id_src_subject_id', 'interview_date_src_subject_id', 'interview_age_src_subject_id', 'sex_src_subject_id', 'src_subject_id_src_subject_id', 'interview_date_src_subject_id', 'interview_age_src_subject_id', 'sex_src_subject_id', 'src_subject_id_src_subject_id', 'interview_date_src_subject_id', 'interview_age_src_subject_id', 'sex_src_subject_id', 'src_subject_id_src_subject_id', 'interview_date_src_subject_id', 'interview_age_src_subject_id', 'sex_src_subject_id', 'src_subject_id_src_subject_id', 'interview_date_src_subject_id', 'interview_age_src_subject_id', 'sex_src_subject_id', 'src_subject_id_src_subject_id', 'interview_date_src_subject_id', 'interview_age_src_subject_id', 'sex_src_subject_id', 'src_subject_id_src_subject_id', 'interview_date_src_subject_id', 'interview_age_src_subject_id', 'sex_src_subject_id', 'src_subject_id_src_subject_id', 'interview_date_src_subject_id', 'interview_age_src_subject_id', 'sex_src_subject_id', 'src_subject_id_src_subject_id', 'interview_date_src_subject_id', 'interview_age_src_subject_id', 'sex_src_subject_id', 'src_subject_id_src_subject_id', 'interview_date_src_subject_id', 'interview_age_src_subject_id', 'sex_src_subject_id']\n",
      "Duplicate counts for each column:\n",
      "Column 'sex_src_subject_id' is duplicated 43 times.\n",
      "Column 'time_first_click_src_subject_id' is duplicated 3 times.\n",
      "Column 'qc_tot_num_nonresp_src_subject_id' is duplicated 4 times.\n",
      "Column 'time_click_count_src_subject_id' is duplicated 2 times.\n",
      "Column 'tot_timing_src_subject_id' is duplicated 4 times.\n",
      "Column 'time_Last_Click_src_subject_id' is duplicated 2 times.\n",
      "Column 'time_page_submit_src_subject_id' is duplicated 2 times.\n",
      "Column 'completed_src_subject_id' is duplicated 2 times.\n",
      "Column 'time_last_click_src_subject_id' is duplicated 2 times.\n",
      "Column 'interview_age_src_subject_id' is duplicated 42 times.\n",
      "Column 'qc_tot_num_items_src_subject_id' is duplicated 4 times.\n",
      "Column 'src_subject_id_src_subject_id' is duplicated 43 times.\n",
      "Column 'interview_date_src_subject_id' is duplicated 41 times.\n",
      "All occurrences of column 'sex_src_subject_id' are identical.\n",
      "Occurrences of column 'time_first_click_src_subject_id' have different values.\n",
      "Occurrences of column 'qc_tot_num_nonresp_src_subject_id' have different values.\n",
      "Occurrences of column 'time_click_count_src_subject_id' have different values.\n",
      "Occurrences of column 'tot_timing_src_subject_id' have different values.\n",
      "Occurrences of column 'time_Last_Click_src_subject_id' have different values.\n",
      "Occurrences of column 'time_page_submit_src_subject_id' have different values.\n",
      "Occurrences of column 'completed_src_subject_id' have different values.\n",
      "Occurrences of column 'time_last_click_src_subject_id' have different values.\n",
      "Occurrences of column 'interview_age_src_subject_id' have different values.\n",
      "Occurrences of column 'qc_tot_num_items_src_subject_id' have different values.\n",
      "All occurrences of column 'src_subject_id_src_subject_id' are identical.\n",
      "Occurrences of column 'interview_date_src_subject_id' have different values.\n"
     ]
    }
   ],
   "source": [
    "df = phenotype\n",
    "\n",
    "# Step 1: Identify duplicated column names\n",
    "duplicated_columns = df.columns[df.columns.duplicated()].tolist()\n",
    "\n",
    "if duplicated_columns:\n",
    "    print(f\"Duplicated columns found: {duplicated_columns}\")\n",
    "    \n",
    "    # Step 2: Count how many times each column is duplicated\n",
    "    duplicate_counts = {col: (df.columns == col).sum() for col in set(duplicated_columns)}\n",
    "    print(\"Duplicate counts for each column:\")\n",
    "    for col, count in duplicate_counts.items():\n",
    "        print(f\"Column '{col}' is duplicated {count} times.\")\n",
    "    \n",
    "    # Step 3: Check if all duplicates are identical\n",
    "    for col in set(duplicated_columns):\n",
    "        # Select all occurrences of the duplicated column\n",
    "        duplicate_data = df.loc[:, df.columns == col]\n",
    "        \n",
    "        # Check if all columns are identical\n",
    "        are_identical = duplicate_data.nunique(axis=1).eq(1).all()\n",
    "        \n",
    "        if are_identical:\n",
    "            print(f\"All occurrences of column '{col}' are identical.\")\n",
    "        else:\n",
    "            print(f\"Occurrences of column '{col}' have different values.\")\n",
    "else:\n",
    "    print(\"No duplicated columns found.\")"
   ]
  },
  {
   "cell_type": "code",
   "execution_count": null,
   "metadata": {},
   "outputs": [],
   "source": [
    "from utility import load_definitions\n",
    "data_root = \"/home/calesella/projects/brainhack/data/phenotype\"\n",
    "definitions = load_definitions(data_root)"
   ]
  },
  {
   "cell_type": "code",
   "execution_count": null,
   "metadata": {},
   "outputs": [],
   "source": [
    "# Filter the definitions dataframe to keep only rows where ElementName is a column in phenotype\n",
    "filtered_definitions = definitions[definitions['ElementName'].isin(phenotype.columns)]\n",
    "filtered_definitions.to_csv(\"/home/calesella/projects/brainhack/data/dataset_phenotypes_definitions.tsv\", sep='\\t')\n"
   ]
  },
  {
   "cell_type": "code",
   "execution_count": null,
   "metadata": {},
   "outputs": [],
   "source": [
    "import pandas as pd\n",
    "definitions.to_csv(\"/home/calesella/projects/brainhack/all_phenotypes_definitions.tsv\", sep='\\t')"
   ]
  },
  {
   "cell_type": "code",
   "execution_count": null,
   "metadata": {},
   "outputs": [],
   "source": [
    "filtered_definitions.to_csv(\"/home/calesella/projects/brainhack/data/dataset_phenotypes_definitions.tsv\", sep='\\t')"
   ]
  }
 ],
 "metadata": {
  "kernelspec": {
   "display_name": "Python 3 (ipykernel)",
   "language": "python",
   "name": "python3"
  },
  "language_info": {
   "codemirror_mode": {
    "name": "ipython",
    "version": 3
   },
   "file_extension": ".py",
   "mimetype": "text/x-python",
   "name": "python",
   "nbconvert_exporter": "python",
   "pygments_lexer": "ipython3",
   "version": "3.11.8"
  }
 },
 "nbformat": 4,
 "nbformat_minor": 2
}
